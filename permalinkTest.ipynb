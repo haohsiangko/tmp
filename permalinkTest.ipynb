{
 "cells": [
  {
   "cell_type": "markdown",
   "metadata": {},
   "source": [
    "# 原本的permalink長這樣\n"
   ]
  },
  {
   "cell_type": "code",
   "execution_count": 2,
   "metadata": {},
   "outputs": [],
   "source": [
    "permalink = 'http://djirs.judicial.gov.tw/fjud/index_1_S.aspx?p=9HeWsc4QZCsdTtczF7l%2FzrsVuYl47JuoFjnSV4hOj%2B0%3D'\n",
    "\n"
   ]
  },
  {
   "cell_type": "markdown",
   "metadata": {},
   "source": [
    "# 可以切三段\n",
    "- http://djirs.judicial.gov.tw/fjud/\n",
    "- index_1_S.aspx?\n",
    "- p=9HeWsc4QZCsdTtczF7l%2FzrsVuYl47JuoFjnSV4hOj%2B0%3D\n",
    "\n",
    "# 第二段改成下面這段，就可以抓到全文\n",
    "\n",
    "- FJUDQRY03_1_S.aspx?\n",
    "\n",
    "\n",
    "### 原因應該是因為全文是包在一個框架內，點檢視原始碼會沒有，點檢視「頁框原始碼」就可看到。兩者的差別只在中間那段"
   ]
  },
  {
   "cell_type": "code",
   "execution_count": 4,
   "metadata": {},
   "outputs": [
    {
     "data": {
      "text/plain": [
       "['http://djirs.judicial.gov.tw/fjud/',\n",
       " 'p=9HeWsc4QZCsdTtczF7l%2FzrsVuYl47JuoFjnSV4hOj%2B0%3D']"
      ]
     },
     "execution_count": 4,
     "metadata": {},
     "output_type": "execute_result"
    }
   ],
   "source": [
    "# 摘出前後part\n",
    "tmp = permalink.split('index_1_S.aspx?')\n",
    "tmp\n"
   ]
  },
  {
   "cell_type": "code",
   "execution_count": 7,
   "metadata": {},
   "outputs": [
    {
     "data": {
      "text/plain": [
       "'http://djirs.judicial.gov.tw/fjud/FJUDQRY03_1_S.aspx?p=9HeWsc4QZCsdTtczF7l%2FzrsVuYl47JuoFjnSV4hOj%2B0%3D'"
      ]
     },
     "execution_count": 7,
     "metadata": {},
     "output_type": "execute_result"
    }
   ],
   "source": [
    "#裝回去\n",
    "k = tmp[0]+'FJUDQRY03_1_S.aspx?'+tmp[1]\n",
    "k "
   ]
  },
  {
   "cell_type": "code",
   "execution_count": 23,
   "metadata": {},
   "outputs": [],
   "source": [
    "from bs4 import BeautifulSoup as BP\n",
    "import requests\n",
    "import pandas as pd"
   ]
  },
  {
   "cell_type": "code",
   "execution_count": null,
   "metadata": {},
   "outputs": [],
   "source": []
  },
  {
   "cell_type": "code",
   "execution_count": null,
   "metadata": {},
   "outputs": [],
   "source": []
  },
  {
   "cell_type": "code",
   "execution_count": 17,
   "metadata": {},
   "outputs": [],
   "source": [
    "def content(url):\n",
    "    \n",
    "    res = requests.get(url) #header也不加了，可以直接只有url\n",
    "#     print(res)\n",
    "    html = BP(res.text,'lxml')\n",
    "#     print(html)\n",
    "    \n",
    "    #判決書全部內容     \n",
    "    text = html.find('pre').text.replace('\\u3000\\u3000\\u3000','').replace('\\r\\n    ','\\n')\n",
    "    print(text)"
   ]
  },
  {
   "cell_type": "code",
   "execution_count": null,
   "metadata": {},
   "outputs": [],
   "source": []
  },
  {
   "cell_type": "code",
   "execution_count": 27,
   "metadata": {},
   "outputs": [
    {
     "name": "stdout",
     "output_type": "stream",
     "text": [
      "臺灣臺北地方法院交通事件裁定　　九十年度交聲字第七四六號\r\n",
      "　　異議人即\r\n",
      "　　受處分人　甲○○\r\n",
      "右列受處分人因違反道路交通管理處罰條例案件，對於臺北市交通事件裁決所中華民\r\n",
      "國八十九年八月一日所為之處分（原處分案號：北市裁三字第裁00－000000\r\n",
      "號），聲明異議，本院裁定如左：\n",
      "主      文\r\n",
      "原處分撤銷。\r\n",
      "甲○○機車駕駛人，酒精濃度過量駕駛汽車，處罰鍰新臺幣壹萬貳仟元，並吊扣其駕\r\n",
      "駛執照陸個月。\n",
      "理      由\r\n",
      "一、按道路交通安全規則所稱之汽車，依該規則第二條第一項第一款之規定，包括機\n",
      "器腳踏車在內，又汽車駕駛人飲酒後其吐氣所含酒精成份超過每公升０．二五毫\n",
      "克以上者，不得駕車，道路交通安全規則第一百十四條第二款定有明文。而道路\n",
      "交通管理處罰條例（九十年一月十七日總統修正公佈之道路交通管理處罰條例部\n",
      "分條文，其施行日期依同條例第九十三條規定須由行政院以命令定之，而行政院\n",
      "係於九十年四月三日以臺九十交字第０一九三一七號令發布修正後之該條例自九\n",
      "十年六月一日起施行，故以下所述及之本條例，如無特別註明，乃係修正生效後\n",
      "之新法，而於敘述上如係九十年一月十七日修正，同年六月一日生效施行前之該\n",
      "條例，則會在該條例下加註「舊法」以資辨明，先予敘明）所稱之汽車，依該條\n",
      "例第三條第八款規定，亦包括機器腳踏車在內，而汽車駕駛人，酒精濃度過量駕\n",
      "駛汽車者，處新臺幣（下同）六千元以上一萬二千元以下罰鍰，並當場禁止其駕\n",
      "駛及吊扣其駕駛執照六個月，道路交通管理處罰條例第三十五條第一項第一款（\n",
      "舊法）定有明文。\r\n",
      "二、本件受處分人即異議人甲○○於八十八年十二月二十日凌晨零時二分許，騎乘車\n",
      "號ＡＶＹ－０９１重型機車行經臺北市○○○路○段，因疑似酒後駕駛機車，遇\n",
      "臺北市政府警察局中正第二分局交通分隊員警王文興予以攔停實施酒測，發現其\n",
      "吐氣所含酒精成份為每公升零點三三毫克，員警隨即以受處分人有違反前揭道路\n",
      "交通管理處罰條例第三十五條第一項第一款（舊法）規定之行為掣單舉發，受處\n",
      "分人簽收告發通知單後，經員警向受處分人告知應到案處所及應到案日期，受處\n",
      "分人未依限自行到案，原處分乃依前揭道路交通管理處罰條例第三十五條第一項\n",
      "第一款規定（舊法）、違反道路交通管理事件統一裁罰標準及處理細則第四十四\n",
      "條第一項規定逕行裁處受處分人罰鍰一萬二千元並予吊扣其駕駛執照六個月。\r\n",
      "三、訊據受處分人否認有任何酒後駕車，並於前述時地為警攔檢實施酒測，經測出其\n",
      "吐氣所含酒精成份為每公升零點三三毫克等事實，其聲請異議意旨辯稱案發當日\n",
      "並非受處分人駕駛機車，而係其友人林吉祥所為，故而提出異議云云。惟查：（\n",
      "二）本件除有告發通告單一紙存卷可參，另經原舉發機關查處結果，受處分人接\n",
      "受酒測時，已經警員核對駕、行照無誤，有臺北市政府警察局中正第二分局九十\n",
      "年七月二十五日北市警中正二分交字第九０六二三四七九００號函影本可憑；（\n",
      "二）且交通警察掣單舉發違反道路交通管理處罰條例所列之違規事實，本質上為\n",
      "行政處分，係公務員基於職務上權力，依法就特定具體事件所為之具公法上效果\n",
      "之單方面行政行為，基於公務員為公法上行為具有公信力之原則，該行政行為當\n",
      "可被推定為真正，其據以依法處分之事實認定亦為正確無誤，從而本件異議人既\n",
      "未能提出證據以資證明舉發機關有何核對證件不實或證件遭人冒用等事實，僅空\n",
      "言並未親自駕駛機車云云，尚難認其辯解為可採，本件事證明確，受處分人之違\n",
      "規行為堪以認定。\r\n",
      "四、綜上所述，受處分人確有在前揭時地酒精濃度過量騎乘機車之違規行為，而受處\n",
      "分人又未依限到案，從而原處分機關依前揭道路交通管理處罰條例（舊法）第三\n",
      "十五條第一項第一款及違反道路交通管理事件統一裁罰標準及處理細則第四十四\n",
      "條第一項規定逕行裁處異議人罰鍰一萬二千元併予吊扣其駕駛執照六個月，固非\n",
      "無見，惟如前所述，九十年一月十七日總統修正公佈之道路交通管理處罰條例第\n",
      "五十三條規定，已於同年六月一日生效施行，新法第三十五條之規定對酒精濃度\n",
      "超過規定標準駕車（未使人受傷或死亡）之處罰，已修正為處一萬五千元以上六\n",
      "萬元以下之罰鍰並吊扣駕駛執照一年，此修正後之法律顯有不同，應認係屬法律\n",
      "之變更，原處分機關未及比較新舊法之適用而為此部分處分，自有未洽，本件受\n",
      "處分人之異議雖無理由，惟原處分既有未洽，自應由本院將原處分撤銷，而現行\n",
      "之道路交通管理處罰條例第三十五條，其修正後之新法，如前所述與修正前之舊\n",
      "法比較結果，舊法顯有利於受處分人（因新法不論最低或最高可處之罰鍰數額均\n",
      "較舊法為高），依學者所認，行政罰在法律之適用上應有刑法第二條第一項「行\n",
      "為後法律有變更者，適用裁判時之法律。但裁判前之法律有利於行為人者，適用\n",
      "最有利於行為人之法律。」及稅捐稽徵法第四十八條之三「納稅義務人違反本法\n",
      "或稅法之規定，適用裁處時之法律。但裁處前之法律有利於納稅義務人者，適用\n",
      "最有利於納稅義務人之法律。」規定所揭示之「從新從輕」原則之類推適用（陳\n",
      "清秀著「依法行政與法律的適用」一文，收錄於翁岳生編「行政法」一書，第一\n",
      "七六頁至第一七九頁，八十七年三月版），本院自應適用修正生效前之舊法為本\n",
      "件之裁判，仍以受處分人有違反道路交通管理處罰條例（舊法）第三十五條第一\n",
      "項第一款規定之行為，且受處分人未依限到案，依該條規定及違反道路交通管理\n",
      "事件統一裁罰標準及處理細則第四十四第一項規定逕行裁處受處分人罰鍰一萬二\n",
      "千元，並吊扣其駕駛執照六個月如主文第二項所示，以資適法。\r\n",
      "五、據上論斷，應依道路交通案件處理辦法第二十條前段，裁定如主文。\r\n",
      "中      華      民      國    九十      年     十二     月    三十一    日\n",
      "                                臺灣臺北地方法院交通法庭\n",
      "                                    法  官  黃程暉\r\n",
      "右正本證明與原本無異\r\n",
      "如不服本裁定應於送達後五日內向本院提出抗告狀\n",
      "                                    書記官  張華瓊\r\n",
      "中      華      民      國    九十一    年     一       月      十一    日\r\n",
      "\n"
     ]
    }
   ],
   "source": [
    "raw = content(k)"
   ]
  },
  {
   "cell_type": "code",
   "execution_count": 25,
   "metadata": {},
   "outputs": [],
   "source": [
    "#wash function 吃str 清理文字，用在初步取出字號、聲請人、被告、主文、理由、判決日期等欄位，return df\n",
    "def wash(raw):\n",
    "    text = raw\n",
    "    pos = [0,1,2]\n",
    "    for i,j in enumerate(text):\n",
    "        if bool(re.search(\"\\\\n主\\s*文\", j)):\n",
    "            pos.append(i+1)\n",
    "        if bool(re.search(\"\\\\n事\\s*實\", j)):\n",
    "            pos.append(i+1)\n",
    "        if bool(re.search(\"中\\s*華\\s*民\\s*國\\s*\", j)):\n",
    "            pos.append(i)\n",
    "    if len(pos)>=5:\n",
    "        \n",
    "        #data是一個list\n",
    "        #data[0] 字號\n",
    "        data = [text[pos[0]]]\n",
    "        \n",
    "        #data[1] 聲請人\n",
    "        data.append(re.sub('\\u3000|\\s*','',text[pos[1]]))\n",
    "        \n",
    "        #data[2] 被告\n",
    "        data.append(re.sub('被告\\u3000','',text[pos[2]]))\n",
    "        \n",
    "        #data[3] 接起來，主文\n",
    "        t = ''\n",
    "        for i in range(pos[3],pos[4]):\n",
    "            t = t+text[i]\n",
    "            t = re.sub('\\s*','',t)\n",
    "        data.append(t)\n",
    "        \n",
    "        #data[4] 接起來，事實理由\n",
    "        t = ''\n",
    "        for i in range(pos[4],pos[5]):\n",
    "            t = t+text[i]\n",
    "            t = re.sub('\\s*','',t)\n",
    "        data.append(t)\n",
    "        \n",
    "        #data[5] 日期\n",
    "        data.append(re.sub('\\s*','',text[pos[5]]))\n",
    "        \n",
    "    #是不是有其他狀況，要NaN處理?\n",
    "    \n",
    "    #data[6] 全文   \n",
    "    data.append(re.sub('\\s*|\\r|\\n','',raw))\n",
    "    \n",
    "    #data[7] 永久連結   \n",
    "    data.append(permalink) #add permalink\n",
    "        \n",
    "    df = pd.DataFrame.from_dict({'row1':data}, orient='index')\n",
    "    df.columns = ['字號','聲請人','被告','主文','事實理由','判決日期','全文','永久連結'] #add permalink\n",
    "    return df\n",
    "\n",
    "\n",
    "#alcohol function 吃list 是從全文這欄中取出酒精濃度的數值，若沒取到也會吐回０．２５（因為有的判決沒寫實際數字．．．只寫超過零點二五），\n",
    "#因此需注意搭配關鍵字搜尋結果，如酒精濃度、駕駛動力交通工具等篩選\n",
    "def alcohol(column):\n",
    "    alcohol = []\n",
    "    for i in column:\n",
    "        matches = re.findall('酒精濃度[^a-zA-Z0-9_]*每公升.\\...毫克|酒精濃度[^a-zA-Z0-9_]*.\\...mg/L',i)\n",
    "        matches = [i for i in matches if '0.25' not in i]\n",
    "        if len(matches)>0:\n",
    "            a = float(re.sub('酒精濃度[^a-zA-Z0-9_]*每公升|酒精濃度達|酒精濃度[^a-zA-Z0-9_]*|毫克|mg/L','',matches[0]).replace('零','0').replace('一','1').replace('二','2').replace('三','3').replace('四','4').replace('五','5').replace('六','6').replace('七','7').replace('八','8').replace('九','9').replace('十','10').replace('點','.'))\n",
    "            alcohol.append(a)\n",
    "        else:\n",
    "            alcohol.append(0.25)\n",
    "    return alcohol\n",
    "\n",
    "#recidivism function 吃list 從全文這欄中取出是否為累犯/初犯，但不見得會記述，因此多一個未提及選項\n",
    "def recidivism(column):\n",
    "    recidivism = []\n",
    "    for i in df['全文']:\n",
    "        recid = re.search('累犯',i)\n",
    "        first = re.search('初犯',i)\n",
    "        deferred = re.search('緩起訴',i)\n",
    "        t = ''\n",
    "        if bool(recid):\n",
    "            t = t+'累犯'\n",
    "        if bool(first):\n",
    "            t = t+'初犯'\n",
    "        if bool(deferred):\n",
    "            t = t+'曾緩起訴'\n",
    "        if t=='':\n",
    "            t = '未提及'\n",
    "        recidivism.append(t)\n",
    "    return recidivism\n",
    "\n",
    "#penalty function 吃list 從主文這欄取出刑罰，因為看到一個判決裡面有多人，因此先保留為list的形式，後續可再討論\n",
    "def penalty(column):\n",
    "    imprisonment = []\n",
    "    fines = []\n",
    "    commutation = []\n",
    "    for i in column:\n",
    "        im = re.findall('處有期徒刑[^a-zA-Z0-9_]*月',i)\n",
    "        im = [re.sub('處有期徒刑|月','',i) for i in im]   \n",
    "        imprisonment.append(im)\n",
    "        fi = re.findall('罰金新臺幣[^a-zA-Z0-9_]*元',i)\n",
    "        fi = [re.sub('罰金新臺幣|元.*$','',i) for i in fi]\n",
    "        fines.append(fi)\n",
    "        co = re.findall('如易科罰金',i)\n",
    "        if len(co)>0:\n",
    "            co = 'true'\n",
    "        else:\n",
    "            co = 'false'\n",
    "        commutation.append(co)\n",
    "    return imprisonment,fines,commutation"
   ]
  },
  {
   "cell_type": "code",
   "execution_count": 26,
   "metadata": {},
   "outputs": [
    {
     "ename": "TypeError",
     "evalue": "'NoneType' object is not iterable",
     "output_type": "error",
     "traceback": [
      "\u001b[0;31m---------------------------------------------------------------------------\u001b[0m",
      "\u001b[0;31mTypeError\u001b[0m                                 Traceback (most recent call last)",
      "\u001b[0;32m<ipython-input-26-70d39a1f209c>\u001b[0m in \u001b[0;36m<module>\u001b[0;34m\u001b[0m\n\u001b[1;32m      1\u001b[0m \u001b[0mdf\u001b[0m \u001b[0;34m=\u001b[0m \u001b[0mpd\u001b[0m\u001b[0;34m.\u001b[0m\u001b[0mDataFrame\u001b[0m\u001b[0;34m(\u001b[0m\u001b[0;34m)\u001b[0m\u001b[0;34m\u001b[0m\u001b[0;34m\u001b[0m\u001b[0m\n\u001b[0;32m----> 2\u001b[0;31m \u001b[0mdf\u001b[0m\u001b[0;34m.\u001b[0m\u001b[0mappend\u001b[0m\u001b[0;34m(\u001b[0m\u001b[0mwash\u001b[0m\u001b[0;34m(\u001b[0m\u001b[0mraw\u001b[0m\u001b[0;34m)\u001b[0m\u001b[0;34m)\u001b[0m\u001b[0;34m\u001b[0m\u001b[0;34m\u001b[0m\u001b[0m\n\u001b[0m\u001b[1;32m      3\u001b[0m \u001b[0mdf\u001b[0m\u001b[0;34m\u001b[0m\u001b[0;34m\u001b[0m\u001b[0m\n",
      "\u001b[0;32m<ipython-input-25-e1f27cd20674>\u001b[0m in \u001b[0;36mwash\u001b[0;34m(raw)\u001b[0m\n\u001b[1;32m      3\u001b[0m     \u001b[0mtext\u001b[0m \u001b[0;34m=\u001b[0m \u001b[0mraw\u001b[0m\u001b[0;34m\u001b[0m\u001b[0;34m\u001b[0m\u001b[0m\n\u001b[1;32m      4\u001b[0m     \u001b[0mpos\u001b[0m \u001b[0;34m=\u001b[0m \u001b[0;34m[\u001b[0m\u001b[0;36m0\u001b[0m\u001b[0;34m,\u001b[0m\u001b[0;36m1\u001b[0m\u001b[0;34m,\u001b[0m\u001b[0;36m2\u001b[0m\u001b[0;34m]\u001b[0m\u001b[0;34m\u001b[0m\u001b[0;34m\u001b[0m\u001b[0m\n\u001b[0;32m----> 5\u001b[0;31m     \u001b[0;32mfor\u001b[0m \u001b[0mi\u001b[0m\u001b[0;34m,\u001b[0m\u001b[0mj\u001b[0m \u001b[0;32min\u001b[0m \u001b[0menumerate\u001b[0m\u001b[0;34m(\u001b[0m\u001b[0mtext\u001b[0m\u001b[0;34m)\u001b[0m\u001b[0;34m:\u001b[0m\u001b[0;34m\u001b[0m\u001b[0;34m\u001b[0m\u001b[0m\n\u001b[0m\u001b[1;32m      6\u001b[0m         \u001b[0;32mif\u001b[0m \u001b[0mbool\u001b[0m\u001b[0;34m(\u001b[0m\u001b[0mre\u001b[0m\u001b[0;34m.\u001b[0m\u001b[0msearch\u001b[0m\u001b[0;34m(\u001b[0m\u001b[0;34m\"\\\\n主\\s*文\"\u001b[0m\u001b[0;34m,\u001b[0m \u001b[0mj\u001b[0m\u001b[0;34m)\u001b[0m\u001b[0;34m)\u001b[0m\u001b[0;34m:\u001b[0m\u001b[0;34m\u001b[0m\u001b[0;34m\u001b[0m\u001b[0m\n\u001b[1;32m      7\u001b[0m             \u001b[0mpos\u001b[0m\u001b[0;34m.\u001b[0m\u001b[0mappend\u001b[0m\u001b[0;34m(\u001b[0m\u001b[0mi\u001b[0m\u001b[0;34m+\u001b[0m\u001b[0;36m1\u001b[0m\u001b[0;34m)\u001b[0m\u001b[0;34m\u001b[0m\u001b[0;34m\u001b[0m\u001b[0m\n",
      "\u001b[0;31mTypeError\u001b[0m: 'NoneType' object is not iterable"
     ]
    }
   ],
   "source": [
    "df = pd.DataFrame()\n",
    "df.append(wash(raw))\n",
    "df"
   ]
  },
  {
   "cell_type": "code",
   "execution_count": null,
   "metadata": {},
   "outputs": [],
   "source": []
  }
 ],
 "metadata": {
  "kernelspec": {
   "display_name": "Python 3",
   "language": "python",
   "name": "python3"
  },
  "language_info": {
   "codemirror_mode": {
    "name": "ipython",
    "version": 3
   },
   "file_extension": ".py",
   "mimetype": "text/x-python",
   "name": "python",
   "nbconvert_exporter": "python",
   "pygments_lexer": "ipython3",
   "version": "3.7.1"
  }
 },
 "nbformat": 4,
 "nbformat_minor": 2
}
